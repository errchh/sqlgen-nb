{
 "cells": [
  {
   "cell_type": "markdown",
   "metadata": {},
   "source": [
    "# SQLgen \n",
    "\n",
    "Generate SQL query \n",
    "- for `Postgres`\n",
    "- on-prem using `Ollama` with `IBM Granite Code` model "
   ]
  },
  {
   "cell_type": "markdown",
   "metadata": {},
   "source": [
    "### Replace database schema and user prompt "
   ]
  },
  {
   "cell_type": "code",
   "execution_count": 26,
   "metadata": {},
   "outputs": [],
   "source": [
    "model = 'granite-code:8b-instruct'\n",
    "\n",
    "schema = \"\"\"  \n",
    "Customers:  \n",
    "- customer_id (INT, PRIMARY KEY)  \n",
    "- first_name (VARCHAR)  \n",
    "- last_name (VARCHAR)  \n",
    "- email (VARCHAR)  \n",
    "- phone (VARCHAR)  \n",
    "- address (VARCHAR)  \n",
    "- city (VARCHAR)  \n",
    "- state (VARCHAR)  \n",
    "- zip_code (VARCHAR)  \n",
    "  \n",
    "Products:  \n",
    "- product_id (INT, PRIMARY KEY)  \n",
    "- product_name (VARCHAR)  \n",
    "- description (TEXT)  \n",
    "- category (VARCHAR)  \n",
    "- price (DECIMAL)  \n",
    "- stock_quantity (INT)  \n",
    "  \n",
    "Orders:  \n",
    "- order_id (INT, PRIMARY KEY)  \n",
    "- customer_id (INT, FOREIGN KEY REFERENCES Customers)  \n",
    "- order_date (DATE)  \n",
    "- total_amount (DECIMAL)  \n",
    "- status (VARCHAR)  \n",
    "  \n",
    "Order_Items:  \n",
    "- order_item_id (INT, PRIMARY KEY)  \n",
    "- order_id (INT, FOREIGN KEY REFERENCES Orders)  \n",
    "- product_id (INT, FOREIGN KEY REFERENCES Products)  \n",
    "- quantity (INT)  \n",
    "- price (DECIMAL)  \n",
    "  \n",
    "Reviews:  \n",
    "- review_id (INT, PRIMARY KEY)  \n",
    "- product_id (INT, FOREIGN KEY REFERENCES Products)  \n",
    "- customer_id (INT, FOREIGN KEY REFERENCES Customers)  \n",
    "- rating (INT)  \n",
    "- comment (TEXT)  \n",
    "- review_date (DATE)  \n",
    "  \n",
    "Employees:  \n",
    "- employee_id (INT, PRIMARY KEY)  \n",
    "- first_name (VARCHAR)  \n",
    "- last_name (VARCHAR)  \n",
    "- email (VARCHAR)  \n",
    "- phone (VARCHAR)  \n",
    "- hire_date (DATE)  \n",
    "- job_title (VARCHAR)  \n",
    "- department (VARCHAR)  \n",
    "- salary (DECIMAL)  \n",
    "\"\"\"\n",
    "\n",
    "user_prompt = \"\"\"\n",
    "Get the list of customers who have placed orders but have not provided any reviews, along with the total amount they have spent on orders.\n",
    "\"\"\""
   ]
  },
  {
   "cell_type": "markdown",
   "metadata": {},
   "source": [
    "### Gen! (and scroll to bottom)"
   ]
  },
  {
   "cell_type": "code",
   "execution_count": 27,
   "metadata": {},
   "outputs": [
    {
     "name": "stdout",
     "output_type": "stream",
     "text": [
      "Requirement already satisfied: langchain in ./venv/lib/python3.11/site-packages (0.3.9)\n",
      "Requirement already satisfied: langchain-ollama in ./venv/lib/python3.11/site-packages (0.2.0)\n",
      "Requirement already satisfied: PyYAML>=5.3 in ./venv/lib/python3.11/site-packages (from langchain) (6.0.2)\n",
      "Requirement already satisfied: SQLAlchemy<3,>=1.4 in ./venv/lib/python3.11/site-packages (from langchain) (2.0.36)\n",
      "Requirement already satisfied: aiohttp<4.0.0,>=3.8.3 in ./venv/lib/python3.11/site-packages (from langchain) (3.11.8)\n",
      "Requirement already satisfied: langchain-core<0.4.0,>=0.3.21 in ./venv/lib/python3.11/site-packages (from langchain) (0.3.21)\n",
      "Requirement already satisfied: langchain-text-splitters<0.4.0,>=0.3.0 in ./venv/lib/python3.11/site-packages (from langchain) (0.3.2)\n",
      "Requirement already satisfied: langsmith<0.2.0,>=0.1.17 in ./venv/lib/python3.11/site-packages (from langchain) (0.1.147)\n",
      "Requirement already satisfied: numpy<2,>=1.22.4 in ./venv/lib/python3.11/site-packages (from langchain) (1.26.4)\n",
      "Requirement already satisfied: pydantic<3.0.0,>=2.7.4 in ./venv/lib/python3.11/site-packages (from langchain) (2.10.2)\n",
      "Requirement already satisfied: requests<3,>=2 in ./venv/lib/python3.11/site-packages (from langchain) (2.32.3)\n",
      "Requirement already satisfied: tenacity!=8.4.0,<10,>=8.1.0 in ./venv/lib/python3.11/site-packages (from langchain) (9.0.0)\n",
      "Requirement already satisfied: ollama<1,>=0.3.0 in ./venv/lib/python3.11/site-packages (from langchain-ollama) (0.4.2)\n",
      "Requirement already satisfied: aiohappyeyeballs>=2.3.0 in ./venv/lib/python3.11/site-packages (from aiohttp<4.0.0,>=3.8.3->langchain) (2.4.3)\n",
      "Requirement already satisfied: aiosignal>=1.1.2 in ./venv/lib/python3.11/site-packages (from aiohttp<4.0.0,>=3.8.3->langchain) (1.3.1)\n",
      "Requirement already satisfied: attrs>=17.3.0 in ./venv/lib/python3.11/site-packages (from aiohttp<4.0.0,>=3.8.3->langchain) (24.2.0)\n",
      "Requirement already satisfied: frozenlist>=1.1.1 in ./venv/lib/python3.11/site-packages (from aiohttp<4.0.0,>=3.8.3->langchain) (1.5.0)\n",
      "Requirement already satisfied: multidict<7.0,>=4.5 in ./venv/lib/python3.11/site-packages (from aiohttp<4.0.0,>=3.8.3->langchain) (6.1.0)\n",
      "Requirement already satisfied: propcache>=0.2.0 in ./venv/lib/python3.11/site-packages (from aiohttp<4.0.0,>=3.8.3->langchain) (0.2.0)\n",
      "Requirement already satisfied: yarl<2.0,>=1.17.0 in ./venv/lib/python3.11/site-packages (from aiohttp<4.0.0,>=3.8.3->langchain) (1.18.0)\n",
      "Requirement already satisfied: jsonpatch<2.0,>=1.33 in ./venv/lib/python3.11/site-packages (from langchain-core<0.4.0,>=0.3.21->langchain) (1.33)\n",
      "Requirement already satisfied: packaging<25,>=23.2 in ./venv/lib/python3.11/site-packages (from langchain-core<0.4.0,>=0.3.21->langchain) (24.2)\n",
      "Requirement already satisfied: typing-extensions>=4.7 in ./venv/lib/python3.11/site-packages (from langchain-core<0.4.0,>=0.3.21->langchain) (4.12.2)\n",
      "Requirement already satisfied: httpx<1,>=0.23.0 in ./venv/lib/python3.11/site-packages (from langsmith<0.2.0,>=0.1.17->langchain) (0.27.2)\n",
      "Requirement already satisfied: orjson<4.0.0,>=3.9.14 in ./venv/lib/python3.11/site-packages (from langsmith<0.2.0,>=0.1.17->langchain) (3.10.12)\n",
      "Requirement already satisfied: requests-toolbelt<2.0.0,>=1.0.0 in ./venv/lib/python3.11/site-packages (from langsmith<0.2.0,>=0.1.17->langchain) (1.0.0)\n",
      "Requirement already satisfied: annotated-types>=0.6.0 in ./venv/lib/python3.11/site-packages (from pydantic<3.0.0,>=2.7.4->langchain) (0.7.0)\n",
      "Requirement already satisfied: pydantic-core==2.27.1 in ./venv/lib/python3.11/site-packages (from pydantic<3.0.0,>=2.7.4->langchain) (2.27.1)\n",
      "Requirement already satisfied: charset-normalizer<4,>=2 in ./venv/lib/python3.11/site-packages (from requests<3,>=2->langchain) (3.4.0)\n",
      "Requirement already satisfied: idna<4,>=2.5 in ./venv/lib/python3.11/site-packages (from requests<3,>=2->langchain) (3.10)\n",
      "Requirement already satisfied: urllib3<3,>=1.21.1 in ./venv/lib/python3.11/site-packages (from requests<3,>=2->langchain) (2.2.3)\n",
      "Requirement already satisfied: certifi>=2017.4.17 in ./venv/lib/python3.11/site-packages (from requests<3,>=2->langchain) (2024.8.30)\n",
      "Requirement already satisfied: anyio in ./venv/lib/python3.11/site-packages (from httpx<1,>=0.23.0->langsmith<0.2.0,>=0.1.17->langchain) (4.6.2.post1)\n",
      "Requirement already satisfied: httpcore==1.* in ./venv/lib/python3.11/site-packages (from httpx<1,>=0.23.0->langsmith<0.2.0,>=0.1.17->langchain) (1.0.7)\n",
      "Requirement already satisfied: sniffio in ./venv/lib/python3.11/site-packages (from httpx<1,>=0.23.0->langsmith<0.2.0,>=0.1.17->langchain) (1.3.1)\n",
      "Requirement already satisfied: h11<0.15,>=0.13 in ./venv/lib/python3.11/site-packages (from httpcore==1.*->httpx<1,>=0.23.0->langsmith<0.2.0,>=0.1.17->langchain) (0.14.0)\n",
      "Requirement already satisfied: jsonpointer>=1.9 in ./venv/lib/python3.11/site-packages (from jsonpatch<2.0,>=1.33->langchain-core<0.4.0,>=0.3.21->langchain) (3.0.0)\n",
      "Note: you may need to restart the kernel to use updated packages.\n"
     ]
    },
    {
     "data": {
      "text/markdown": [
       "## SQL query generated: \n",
       "Here is the SQL query to retrieve the list of customers who have placed orders but have not provided any reviews, along with the total amount they have spent on orders:\n",
       "\n",
       "```sql\n",
       "SELECT Customers.customer_id, Customers.first_name, Customers.last_name, SUM(Orders.total_amount) AS total_spent\n",
       "FROM Customers\n",
       "JOIN Orders ON Customers.customer_id = Orders.customer_id\n",
       "LEFT JOIN Reviews ON Customers.customer_id = Reviews.customer_id\n",
       "WHERE Reviews.review_id IS NULL\n",
       "GROUP BY Customers.customer_id, Customers.first_name, Customers.last_name\n",
       "```\n",
       "\n",
       "This query uses a LEFT JOIN to include customers who have not provided any reviews in the result set. The WHERE clause filters out customers with a review ID, and the GROUP BY clause groups the results by customer ID, first name, and last name. The SUM function calculates the total amount spent by each customer on orders.\n"
      ],
      "text/plain": [
       "<IPython.core.display.Markdown object>"
      ]
     },
     "execution_count": 27,
     "metadata": {},
     "output_type": "execute_result"
    }
   ],
   "source": [
    "%pip install -U langchain langchain-ollama \n",
    "\n",
    "# set system prompt for Ollama\n",
    "system_prompt = f\"\"\"\n",
    "Transform the following natural language requests into valid Postgres SQL queries. Assume a database with the following tables and columns exists: \n",
    "{schema}\n",
    "Provide the SQL query that would retrieve the data based on the natural language request.\n",
    "\"\"\"\n",
    "\n",
    "# pass the prompts to Ollama and get the response\n",
    "from langchain_ollama import ChatOllama\n",
    "from langchain_core.messages import AIMessage\n",
    "from IPython.display import Markdown\n",
    "\n",
    "\n",
    "def generate_response(system_prompt, user_prompt, model):\n",
    "    llm = ChatOllama(\n",
    "            model=model,\n",
    "            temperature=0.8,\n",
    "            num_predict=256,\n",
    "    )\n",
    "    messages = [\n",
    "        (\"system\", system_prompt),\n",
    "        (\"human\", user_prompt),\n",
    "    ]\n",
    "    return llm.invoke(messages)\n",
    "\n",
    "response = generate_response(system_prompt, user_prompt, model)\n",
    "response_content = response.content\n",
    "Markdown(f\"## SQL query generated: \\n{response_content}\")\n"
   ]
  }
 ],
 "metadata": {
  "kernelspec": {
   "display_name": "venv",
   "language": "python",
   "name": "python3"
  },
  "language_info": {
   "codemirror_mode": {
    "name": "ipython",
    "version": 3
   },
   "file_extension": ".py",
   "mimetype": "text/x-python",
   "name": "python",
   "nbconvert_exporter": "python",
   "pygments_lexer": "ipython3",
   "version": "3.11.5"
  }
 },
 "nbformat": 4,
 "nbformat_minor": 2
}
