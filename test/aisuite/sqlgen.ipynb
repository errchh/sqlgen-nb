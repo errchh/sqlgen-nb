{
 "cells": [
  {
   "cell_type": "markdown",
   "metadata": {},
   "source": [
    "# SQLgen \n",
    "\n",
    "Generate SQL query \n",
    "- from Postgres schema \n",
    "- on-prem using Ollama with IBM Granite Code model "
   ]
  },
  {
   "cell_type": "markdown",
   "metadata": {},
   "source": [
    "### Schema & question\n",
    "\n",
    "- Paste the database schema below. \n",
    "- Enter your question in plain English. "
   ]
  },
  {
   "cell_type": "code",
   "execution_count": null,
   "metadata": {},
   "outputs": [],
   "source": [
    "model = 'granite-code:8b-instruct'\n",
    "\n",
    "schema = \"\"\"\n",
    "\n",
    "\"\"\"\n",
    "\n",
    "user_prompt = \"\"\"\n",
    "\n",
    "\"\"\""
   ]
  },
  {
   "cell_type": "markdown",
   "metadata": {},
   "source": [
    "### Gen! "
   ]
  },
  {
   "cell_type": "code",
   "execution_count": null,
   "metadata": {},
   "outputs": [],
   "source": [
    "%pip install  openai 'aisuite[all]'\n",
    "!export OPENAI_API_KEY='ollama' #placeholder\n",
    "\n",
    "# set system prompt for Ollama\n",
    "system_prompt = f\"\"\"\n",
    "\n",
    "{schema}\n",
    "\"\"\"\n",
    "\n",
    "# pass the prompts to Ollama and get the response\n",
    "import aisuite as ai\n",
    "\n",
    "def generate_response(system_prompt, user_prompt, model):\n",
    "    client = ai.Client()\n",
    "    messages = [\n",
    "        {\"role\": \"system\", \"content\": system_prompt},\n",
    "        {\"role\": \"user\", \"content\": user_prompt},\n",
    "    ]\n",
    "    response = client.chat.completions.create(\n",
    "        model=model,\n",
    "        messages=messages,\n",
    "        temperature=0.75\n",
    "    )\n",
    "    return response.content\n",
    "\n",
    "response_content = generate_response(system_prompt, user_prompt)\n",
    "print(response_content)\n"
   ]
  }
 ],
 "metadata": {
  "kernelspec": {
   "display_name": "venv",
   "language": "python",
   "name": "python3"
  },
  "language_info": {
   "codemirror_mode": {
    "name": "ipython",
    "version": 3
   },
   "file_extension": ".py",
   "mimetype": "text/x-python",
   "name": "python",
   "nbconvert_exporter": "python",
   "pygments_lexer": "ipython3",
   "version": "3.11.5"
  }
 },
 "nbformat": 4,
 "nbformat_minor": 2
}
